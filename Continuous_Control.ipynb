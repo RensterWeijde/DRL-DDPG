{
 "cells": [
  {
   "cell_type": "markdown",
   "metadata": {},
   "source": [
    "# Continuous Control_RTW\n",
    "\n",
    "---\n",
    "\n",
    "You are welcome to use this coding environment to train your agent for the project.  Follow the instructions below to get started!\n",
    "\n",
    "### 1. Start the Environment\n",
    "\n",
    "Run the next code cell to install a few packages.  This line will take a few minutes to run!"
   ]
  },
  {
   "cell_type": "code",
   "execution_count": 1,
   "metadata": {},
   "outputs": [],
   "source": [
    "!pip -q install ./python"
   ]
  },
  {
   "cell_type": "markdown",
   "metadata": {},
   "source": [
    "The environments corresponding to both versions of the environment are already saved in the Workspace and can be accessed at the file paths provided below.  \n",
    "\n",
    "Please select one of the two options below for loading the environment."
   ]
  },
  {
   "cell_type": "code",
   "execution_count": 2,
   "metadata": {},
   "outputs": [
    {
     "name": "stderr",
     "output_type": "stream",
     "text": [
      "INFO:unityagents:\n",
      "'Academy' started successfully!\n",
      "Unity Academy name: Academy\n",
      "        Number of Brains: 1\n",
      "        Number of External Brains : 1\n",
      "        Lesson number : 0\n",
      "        Reset Parameters :\n",
      "\t\tgoal_size -> 5.0\n",
      "\t\tgoal_speed -> 1.0\n",
      "Unity brain name: ReacherBrain\n",
      "        Number of Visual Observations (per agent): 0\n",
      "        Vector Observation space type: continuous\n",
      "        Vector Observation space size (per agent): 33\n",
      "        Number of stacked Vector Observation: 1\n",
      "        Vector Action space type: continuous\n",
      "        Vector Action space size (per agent): 4\n",
      "        Vector Action descriptions: , , , \n"
     ]
    }
   ],
   "source": [
    "# import already made modules/classes\n",
    "from unityagents import UnityEnvironment\n",
    "import numpy as np\n",
    "import torch\n",
    "import torch.nn as nn\n",
    "import torch.nn.functional as F\n",
    "import torch.optim as optim\n",
    "import matplotlib.pyplot as plt\n",
    "from collections import deque\n",
    "\n",
    "# select this option to load version 1 (with a single agent) of the environment\n",
    "# go for env with one agent, Reacher\n",
    "env = UnityEnvironment(file_name='/data/Reacher_One_Linux_NoVis/Reacher_One_Linux_NoVis.x86_64')\n",
    "\n",
    "# select this option to load version 2 (with 20 agents) of the environment\n",
    "# env = UnityEnvironment(file_name='/data/Reacher_Linux_NoVis/Reacher.x86_64')"
   ]
  },
  {
   "cell_type": "code",
   "execution_count": 3,
   "metadata": {},
   "outputs": [],
   "source": [
    "# import handmade classes\n",
    "# based on files included by Udacity\n",
    "from ddpg_agent import Agent"
   ]
  },
  {
   "cell_type": "code",
   "execution_count": 4,
   "metadata": {},
   "outputs": [
    {
     "name": "stdout",
     "output_type": "stream",
     "text": [
      "<class 'ddpg_agent.Agent'>\n"
     ]
    }
   ],
   "source": [
    "# note Agent has functions act, learn, reset, soft_update etc.\n",
    "print(Agent)"
   ]
  },
  {
   "cell_type": "markdown",
   "metadata": {},
   "source": [
    "Environments contain **_brains_** which are responsible for deciding the actions of their associated agents. Here we check for the first brain available, and set it as the default brain we will be controlling from Python."
   ]
  },
  {
   "cell_type": "code",
   "execution_count": 5,
   "metadata": {},
   "outputs": [],
   "source": [
    "# get the default brain\n",
    "# just the first brain of the environment\n",
    "brain_name = env.brain_names[0]\n",
    "brain = env.brains[brain_name]"
   ]
  },
  {
   "cell_type": "markdown",
   "metadata": {},
   "source": [
    "### 2. Examine the State and Action Spaces\n",
    "\n",
    "Run the code cell below to print some information about the environment."
   ]
  },
  {
   "cell_type": "code",
   "execution_count": 6,
   "metadata": {},
   "outputs": [
    {
     "name": "stdout",
     "output_type": "stream",
     "text": [
      "Number of agents: 1\n",
      "Size of each action: 4\n",
      "There are 1 agents. Each observes a state with length: 33\n",
      "The state for the first agent looks like: [  0.00000000e+00  -4.00000000e+00   0.00000000e+00   1.00000000e+00\n",
      "  -0.00000000e+00  -0.00000000e+00  -4.37113883e-08   0.00000000e+00\n",
      "   0.00000000e+00   0.00000000e+00   0.00000000e+00   0.00000000e+00\n",
      "   0.00000000e+00   0.00000000e+00  -1.00000000e+01   0.00000000e+00\n",
      "   1.00000000e+00  -0.00000000e+00  -0.00000000e+00  -4.37113883e-08\n",
      "   0.00000000e+00   0.00000000e+00   0.00000000e+00   0.00000000e+00\n",
      "   0.00000000e+00   0.00000000e+00   5.75471878e+00  -1.00000000e+00\n",
      "   5.55726671e+00   0.00000000e+00   1.00000000e+00   0.00000000e+00\n",
      "  -1.68164849e-01]\n"
     ]
    }
   ],
   "source": [
    "# reset the environment\n",
    "env_info = env.reset(train_mode=True)[brain_name]\n",
    "\n",
    "# number of agents\n",
    "num_agents = len(env_info.agents)\n",
    "print('Number of agents:', num_agents)\n",
    "\n",
    "# size of each action\n",
    "action_size = brain.vector_action_space_size\n",
    "print('Size of each action:', action_size)\n",
    "\n",
    "# examine the state space; note space lenght is 33\n",
    "states = env_info.vector_observations\n",
    "state_size = states.shape[1]\n",
    "print('There are {} agents. Each observes a state with length: {}'.format(states.shape[0], state_size))\n",
    "print('The state for the first agent looks like:', states[0])"
   ]
  },
  {
   "cell_type": "markdown",
   "metadata": {},
   "source": [
    "### 3. DDPG agent in action!"
   ]
  },
  {
   "cell_type": "code",
   "execution_count": 7,
   "metadata": {},
   "outputs": [],
   "source": [
    "# instantiate an agent from Agent class\n",
    "# use variables from environment above\n",
    "seed = 123\n",
    "agent = Agent(state_size = state_size, action_size = action_size, seed = seed)"
   ]
  },
  {
   "cell_type": "code",
   "execution_count": 8,
   "metadata": {
    "scrolled": true
   },
   "outputs": [
    {
     "name": "stdout",
     "output_type": "stream",
     "text": [
      "Training on cuda:0 started...\n",
      "Episode: 10\tAverage Score: 0.70\tCurrent Score: 1.01\n",
      "Episode: 20\tAverage Score: 0.71\tCurrent Score: 0.30\n",
      "Episode: 30\tAverage Score: 0.73\tCurrent Score: 0.39\n",
      "Episode: 40\tAverage Score: 0.79\tCurrent Score: 1.61\n",
      "Episode: 50\tAverage Score: 0.87\tCurrent Score: 1.93\n",
      "Episode: 60\tAverage Score: 0.98\tCurrent Score: 1.59\n",
      "Episode: 70\tAverage Score: 1.08\tCurrent Score: 1.86\n",
      "Episode: 80\tAverage Score: 1.16\tCurrent Score: 2.58\n",
      "Episode: 90\tAverage Score: 1.25\tCurrent Score: 3.54\n",
      "Episode: 100\tAverage Score: 1.35\tCurrent Score: 2.77\n",
      "Episode: 110\tAverage Score: 1.55\tCurrent Score: 2.52\n",
      "Episode: 120\tAverage Score: 1.81\tCurrent Score: 1.94\n",
      "Episode: 130\tAverage Score: 1.96\tCurrent Score: 1.97\n",
      "Episode: 140\tAverage Score: 2.11\tCurrent Score: 4.22\n",
      "Episode: 150\tAverage Score: 2.24\tCurrent Score: 2.89\n",
      "Episode: 160\tAverage Score: 2.38\tCurrent Score: 1.53\n",
      "Episode: 170\tAverage Score: 2.46\tCurrent Score: 2.09\n",
      "Episode: 180\tAverage Score: 2.55\tCurrent Score: 2.41\n",
      "Episode: 190\tAverage Score: 2.64\tCurrent Score: 2.91\n",
      "Episode: 200\tAverage Score: 2.74\tCurrent Score: 3.08\n",
      "Episode: 210\tAverage Score: 2.73\tCurrent Score: 2.60\n",
      "Episode: 220\tAverage Score: 2.70\tCurrent Score: 3.90\n",
      "Episode: 230\tAverage Score: 2.78\tCurrent Score: 1.43\n",
      "Episode: 240\tAverage Score: 2.81\tCurrent Score: 3.40\n",
      "Episode: 250\tAverage Score: 2.83\tCurrent Score: 3.29\n",
      "Episode: 260\tAverage Score: 2.80\tCurrent Score: 3.26\n",
      "Episode: 270\tAverage Score: 2.82\tCurrent Score: 4.02\n",
      "Episode: 280\tAverage Score: 2.90\tCurrent Score: 3.98\n",
      "Episode: 290\tAverage Score: 2.94\tCurrent Score: 3.07\n",
      "Episode: 300\tAverage Score: 3.01\tCurrent Score: 4.92\n",
      "Episode: 310\tAverage Score: 3.11\tCurrent Score: 3.77\n",
      "Episode: 320\tAverage Score: 3.08\tCurrent Score: 5.17\n",
      "Episode: 330\tAverage Score: 3.09\tCurrent Score: 1.37\n",
      "Episode: 340\tAverage Score: 3.14\tCurrent Score: 3.17\n",
      "Episode: 350\tAverage Score: 3.20\tCurrent Score: 1.96\n",
      "Episode: 360\tAverage Score: 3.26\tCurrent Score: 3.01\n",
      "Episode: 370\tAverage Score: 3.24\tCurrent Score: 2.33\n",
      "Episode: 380\tAverage Score: 3.28\tCurrent Score: 4.44\n",
      "Episode: 390\tAverage Score: 3.24\tCurrent Score: 1.87\n",
      "Episode: 400\tAverage Score: 3.36\tCurrent Score: 4.38\n",
      "Episode: 410\tAverage Score: 3.47\tCurrent Score: 4.85\n",
      "Episode: 420\tAverage Score: 3.75\tCurrent Score: 6.69\n",
      "Episode: 430\tAverage Score: 3.80\tCurrent Score: 4.56\n",
      "Episode: 440\tAverage Score: 3.91\tCurrent Score: 2.68\n",
      "Episode: 450\tAverage Score: 3.95\tCurrent Score: 1.96\n",
      "Episode: 460\tAverage Score: 4.15\tCurrent Score: 7.23\n",
      "Episode: 470\tAverage Score: 4.32\tCurrent Score: 3.05\n",
      "Episode: 480\tAverage Score: 4.41\tCurrent Score: 4.80\n",
      "Episode: 490\tAverage Score: 4.56\tCurrent Score: 3.22\n",
      "Episode: 500\tAverage Score: 4.49\tCurrent Score: 7.84\n",
      "Episode: 510\tAverage Score: 4.43\tCurrent Score: 5.93\n",
      "Episode: 520\tAverage Score: 4.38\tCurrent Score: 3.62\n",
      "Episode: 530\tAverage Score: 4.44\tCurrent Score: 5.35\n",
      "Episode: 540\tAverage Score: 4.54\tCurrent Score: 6.93\n",
      "Episode: 550\tAverage Score: 4.74\tCurrent Score: 6.071\n",
      "Episode: 560\tAverage Score: 4.77\tCurrent Score: 4.90\n",
      "Episode: 570\tAverage Score: 4.96\tCurrent Score: 6.122\n",
      "Episode: 580\tAverage Score: 5.01\tCurrent Score: 2.952\n",
      "Episode: 590\tAverage Score: 5.16\tCurrent Score: 8.69\n",
      "Episode: 600\tAverage Score: 5.20\tCurrent Score: 3.224\n",
      "Episode: 610\tAverage Score: 5.45\tCurrent Score: 7.600\n",
      "Episode: 620\tAverage Score: 5.47\tCurrent Score: 4.19\n",
      "Episode: 630\tAverage Score: 5.67\tCurrent Score: 5.734\n",
      "Episode: 640\tAverage Score: 5.62\tCurrent Score: 5.29\n",
      "Episode: 650\tAverage Score: 5.65\tCurrent Score: 8.10\n",
      "Episode: 660\tAverage Score: 5.84\tCurrent Score: 11.35\n",
      "Episode: 670\tAverage Score: 5.78\tCurrent Score: 6.05\n",
      "Episode: 680\tAverage Score: 5.90\tCurrent Score: 6.515\n",
      "Episode: 690\tAverage Score: 6.00\tCurrent Score: 8.682\n",
      "Episode: 700\tAverage Score: 6.17\tCurrent Score: 8.70\n",
      "Episode: 710\tAverage Score: 6.29\tCurrent Score: 7.607\n",
      "Episode: 720\tAverage Score: 6.26\tCurrent Score: 4.40\n",
      "Episode: 730\tAverage Score: 6.18\tCurrent Score: 5.46\n",
      "Episode: 740\tAverage Score: 6.25\tCurrent Score: 8.09\n",
      "Episode: 750\tAverage Score: 6.40\tCurrent Score: 5.311\n",
      "Episode: 760\tAverage Score: 6.25\tCurrent Score: 6.27\n",
      "Episode: 770\tAverage Score: 6.35\tCurrent Score: 6.522\n",
      "Episode: 780\tAverage Score: 6.33\tCurrent Score: 6.83\n",
      "Episode: 790\tAverage Score: 6.50\tCurrent Score: 9.473\n",
      "Episode: 800\tAverage Score: 6.68\tCurrent Score: 7.806\n",
      "Episode: 810\tAverage Score: 6.79\tCurrent Score: 6.102\n",
      "Episode: 820\tAverage Score: 7.10\tCurrent Score: 5.549\n",
      "Episode: 830\tAverage Score: 7.31\tCurrent Score: 9.829\n",
      "Episode: 840\tAverage Score: 7.42\tCurrent Score: 6.49\n",
      "Episode: 850\tAverage Score: 7.48\tCurrent Score: 11.78\n",
      "Episode: 860\tAverage Score: 7.69\tCurrent Score: 9.203\n",
      "Episode: 870\tAverage Score: 7.78\tCurrent Score: 5.951\n",
      "Episode: 880\tAverage Score: 7.95\tCurrent Score: 7.727\n",
      "Episode: 890\tAverage Score: 7.89\tCurrent Score: 6.058\n",
      "Episode: 900\tAverage Score: 7.95\tCurrent Score: 8.530\n",
      "Episode: 910\tAverage Score: 7.98\tCurrent Score: 6.333\n",
      "Episode: 920\tAverage Score: 8.04\tCurrent Score: 9.183\n",
      "Episode: 930\tAverage Score: 7.99\tCurrent Score: 7.35\n",
      "Episode: 940\tAverage Score: 8.18\tCurrent Score: 8.975\n",
      "Episode: 950\tAverage Score: 8.18\tCurrent Score: 10.08\n",
      "Episode: 960\tAverage Score: 8.17\tCurrent Score: 3.348\n",
      "Episode: 970\tAverage Score: 8.29\tCurrent Score: 8.096\n",
      "Episode: 980\tAverage Score: 8.21\tCurrent Score: 5.864\n",
      "Episode: 990\tAverage Score: 8.27\tCurrent Score: 7.585\n",
      "Episode: 1000\tAverage Score: 8.20\tCurrent Score: 7.70\n",
      "Episode: 1010\tAverage Score: 8.11\tCurrent Score: 8.480\n",
      "Episode: 1020\tAverage Score: 8.17\tCurrent Score: 7.952\n",
      "Episode: 1030\tAverage Score: 8.32\tCurrent Score: 5.690\n",
      "Episode: 1040\tAverage Score: 8.34\tCurrent Score: 11.33\n",
      "Episode: 1050\tAverage Score: 8.58\tCurrent Score: 10.35\n",
      "Episode: 1060\tAverage Score: 8.73\tCurrent Score: 8.991\n",
      "Episode: 1070\tAverage Score: 8.94\tCurrent Score: 7.975\n",
      "Episode: 1080\tAverage Score: 9.23\tCurrent Score: 6.673\n",
      "Episode: 1090\tAverage Score: 9.61\tCurrent Score: 8.000\n",
      "Episode: 1100\tAverage Score: 10.04\tCurrent Score: 8.648\n",
      "Episode: 1110\tAverage Score: 10.52\tCurrent Score: 10.72\n",
      "Episode: 1120\tAverage Score: 10.76\tCurrent Score: 12.54\n",
      "Episode: 1130\tAverage Score: 11.07\tCurrent Score: 12.45\n",
      "Episode: 1140\tAverage Score: 11.22\tCurrent Score: 7.947\n",
      "Episode: 1150\tAverage Score: 11.31\tCurrent Score: 10.52\n",
      "Episode: 1160\tAverage Score: 11.37\tCurrent Score: 10.78\n",
      "Episode: 1170\tAverage Score: 11.43\tCurrent Score: 10.29\n",
      "Episode: 1180\tAverage Score: 11.48\tCurrent Score: 8.047\n",
      "Episode: 1190\tAverage Score: 11.51\tCurrent Score: 12.51\n",
      "Episode: 1200\tAverage Score: 11.51\tCurrent Score: 17.69\n",
      "Episode: 1210\tAverage Score: 11.39\tCurrent Score: 12.61\n",
      "Episode: 1220\tAverage Score: 11.57\tCurrent Score: 11.18\n",
      "Episode: 1230\tAverage Score: 11.67\tCurrent Score: 10.84\n",
      "Episode: 1240\tAverage Score: 11.78\tCurrent Score: 10.00\n",
      "Episode: 1250\tAverage Score: 11.81\tCurrent Score: 13.89\n",
      "Episode: 1260\tAverage Score: 12.20\tCurrent Score: 16.11\n",
      "Episode: 1270\tAverage Score: 12.31\tCurrent Score: 16.26\n",
      "Episode: 1280\tAverage Score: 12.50\tCurrent Score: 14.96\n",
      "Episode: 1290\tAverage Score: 12.58\tCurrent Score: 14.04\n",
      "Episode: 1300\tAverage Score: 12.77\tCurrent Score: 14.19\n",
      "Episode: 1310\tAverage Score: 12.93\tCurrent Score: 15.35\n",
      "Episode: 1320\tAverage Score: 13.03\tCurrent Score: 13.20\n",
      "Episode: 1330\tAverage Score: 13.17\tCurrent Score: 11.45\n",
      "Episode: 1340\tAverage Score: 13.49\tCurrent Score: 15.62\n",
      "Episode: 1350\tAverage Score: 13.76\tCurrent Score: 16.64\n",
      "Episode: 1360\tAverage Score: 13.79\tCurrent Score: 8.885\n",
      "Episode: 1370\tAverage Score: 13.86\tCurrent Score: 17.08\n",
      "Episode: 1380\tAverage Score: 14.08\tCurrent Score: 14.51\n",
      "Episode: 1390\tAverage Score: 14.31\tCurrent Score: 12.40\n",
      "Episode: 1400\tAverage Score: 14.23\tCurrent Score: 19.04\n",
      "Episode: 1410\tAverage Score: 14.34\tCurrent Score: 14.56\n",
      "Episode: 1420\tAverage Score: 14.48\tCurrent Score: 21.93\n",
      "Episode: 1430\tAverage Score: 14.52\tCurrent Score: 13.20\n",
      "Episode: 1440\tAverage Score: 14.73\tCurrent Score: 21.14\n",
      "Episode: 1450\tAverage Score: 14.96\tCurrent Score: 12.47\n",
      "Episode: 1460\tAverage Score: 15.18\tCurrent Score: 13.56\n",
      "Episode: 1470\tAverage Score: 15.52\tCurrent Score: 17.34\n",
      "Episode: 1480\tAverage Score: 15.60\tCurrent Score: 15.25\n",
      "Episode: 1490\tAverage Score: 15.61\tCurrent Score: 19.00\n",
      "Episode: 1500\tAverage Score: 15.96\tCurrent Score: 15.14\n",
      "Episode: 1510\tAverage Score: 16.25\tCurrent Score: 20.07\n",
      "Episode: 1520\tAverage Score: 16.38\tCurrent Score: 19.89\n",
      "Episode: 1530\tAverage Score: 16.36\tCurrent Score: 14.14\n",
      "Episode: 1540\tAverage Score: 16.53\tCurrent Score: 17.54\n",
      "Episode: 1550\tAverage Score: 16.57\tCurrent Score: 19.03\n",
      "Episode: 1560\tAverage Score: 16.83\tCurrent Score: 17.58\n",
      "Episode: 1570\tAverage Score: 16.94\tCurrent Score: 13.22\n",
      "Episode: 1580\tAverage Score: 17.16\tCurrent Score: 24.74\n",
      "Episode: 1590\tAverage Score: 17.66\tCurrent Score: 22.26\n",
      "Episode: 1600\tAverage Score: 17.83\tCurrent Score: 19.77\n",
      "Episode: 1610\tAverage Score: 17.85\tCurrent Score: 19.77\n",
      "Episode: 1620\tAverage Score: 17.99\tCurrent Score: 15.71\n",
      "Episode: 1630\tAverage Score: 18.19\tCurrent Score: 12.92\n",
      "Episode: 1640\tAverage Score: 18.25\tCurrent Score: 22.29\n",
      "Episode: 1650\tAverage Score: 18.36\tCurrent Score: 22.85\n",
      "Episode: 1660\tAverage Score: 18.29\tCurrent Score: 11.63\n",
      "Episode: 1670\tAverage Score: 18.55\tCurrent Score: 21.35\n",
      "Episode: 1680\tAverage Score: 18.49\tCurrent Score: 17.96\n",
      "Episode: 1690\tAverage Score: 18.20\tCurrent Score: 18.27\n",
      "Episode: 1700\tAverage Score: 18.25\tCurrent Score: 21.69\n",
      "Episode: 1710\tAverage Score: 18.25\tCurrent Score: 11.45\n",
      "Episode: 1720\tAverage Score: 18.43\tCurrent Score: 14.91\n",
      "Episode: 1730\tAverage Score: 18.77\tCurrent Score: 17.82\n",
      "Episode: 1740\tAverage Score: 18.93\tCurrent Score: 17.47\n",
      "Episode: 1750\tAverage Score: 19.11\tCurrent Score: 21.06\n",
      "Episode: 1760\tAverage Score: 19.48\tCurrent Score: 21.32\n",
      "Episode: 1770\tAverage Score: 19.57\tCurrent Score: 20.43\n",
      "Episode: 1780\tAverage Score: 20.02\tCurrent Score: 24.53\n",
      "Episode: 1790\tAverage Score: 20.56\tCurrent Score: 25.63\n",
      "Episode: 1800\tAverage Score: 20.80\tCurrent Score: 25.66\n"
     ]
    }
   ],
   "source": [
    "# training function mostly copied from Udacity git\n",
    "def train(n_episodes=2000, max_t = 1000, window_size=100, score_threshold=30.0, \n",
    "         print_interval=10, epochs=1800):\n",
    "    \n",
    "    scores_deque = deque(maxlen=window_size) \n",
    "    scores = []        \n",
    "    best_average_score = -np.inf \n",
    "    print(\"Training on {} started...\".format(agent.device))\n",
    "    \n",
    "    for i_episode in range(1, epochs+1):\n",
    "        \n",
    "        env_info = env.reset(train_mode=True)[brain_name] # env.reset, set to train mode\n",
    "        states = env_info.vector_observations\n",
    "        \n",
    "        agent.reset() # agent.reset\n",
    "        episode_scores = np.zeros(num_agents) \n",
    "\n",
    "        for t in range(max_t):\n",
    "            actions = agent.act(states) # builds on the imported agent\n",
    "            env_info = env.step(actions)[brain_name]\n",
    "            next_states = env_info.vector_observations\n",
    "            rewards = env_info.rewards\n",
    "            dones = env_info.local_done\n",
    "\n",
    "            agent.step(states=states, actions=actions, rewards=rewards, next_states=next_states, dones=dones)\n",
    "            episode_scores += np.array(rewards)\n",
    "            states = next_states\n",
    "            if np.any(dones):\n",
    "                break\n",
    "        \n",
    "        episode_score = np.mean(episode_scores) # mean of episode scores\n",
    "        scores_deque.append(episode_score)\n",
    "        scores.append(episode_score)\n",
    "        average_score = np.mean(scores_deque)\n",
    "\n",
    "        print('\\rEpisode: {}\\tAverage Score: {:.2f}\\tCurrent Score: {:.2f}'.format(i_episode, average_score, episode_score), end=\"\")\n",
    "        if i_episode % print_interval == 0:\n",
    "            print('\\rEpisode: {}\\tAverage Score: {:.2f}\\tCurrent Score: {:.2f}'.format(i_episode, average_score, episode_score))\n",
    "\n",
    "        if average_score >= score_threshold:\n",
    "            print('\\nEnvironment solved in {} episodes!\\tAverage Score: {:.2f}'.format(i_episode-window_size, average_score))\n",
    "            torch.save(agent.actor_local.state_dict(), 'checkpoint_actor.pth')\n",
    "            torch.save(agent.critic_local.state_dict(), 'checkpoint_critic.pth')\n",
    "            break\n",
    "\n",
    "    np.save('scores.npy', scores)\n",
    "    return scores\n",
    "\n",
    "scores = train()"
   ]
  },
  {
   "cell_type": "code",
   "execution_count": 18,
   "metadata": {},
   "outputs": [
    {
     "data": {
      "image/png": "[encoded data removed]",
      "text/plain": [
       "<matplotlib.figure.Figure at 0x7f501f254dd8>"
      ]
     },
     "metadata": {
      "needs_background": "light"
     },
     "output_type": "display_data"
    }
   ],
   "source": [
    "# plot the outcomes\n",
    "import matplotlib.pyplot as plt\n",
    "\n",
    "figure = plt.figure()\n",
    "ax = figure.add_subplot(111)\n",
    "plt.plot(range(1, len(scores) + 1), scores)\n",
    "plt.xlabel('Number of pisodes')\n",
    "plt.ylabel('Scores')\n",
    "plt.savefig('DDPG_results.png')\n",
    "plt.show()"
   ]
  },
  {
   "cell_type": "code",
   "execution_count": null,
   "metadata": {},
   "outputs": [],
   "source": []
  }
 ],
 "metadata": {
  "kernelspec": {
   "display_name": "Python 3",
   "language": "python",
   "name": "python3"
  },
  "language_info": {
   "codemirror_mode": {
    "name": "ipython",
    "version": 3
   },
   "file_extension": ".py",
   "mimetype": "text/x-python",
   "name": "python",
   "nbconvert_exporter": "python",
   "pygments_lexer": "ipython3",
   "version": "3.6.3"
  }
 },
 "nbformat": 4,
 "nbformat_minor": 2
}
